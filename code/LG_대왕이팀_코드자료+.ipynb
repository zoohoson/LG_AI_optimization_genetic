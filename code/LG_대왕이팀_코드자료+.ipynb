{
 "cells": [
  {
   "cell_type": "markdown",
   "metadata": {},
   "source": [
    "## LG AI 해커톤, 블럭 장난감 제조 공정 최적화 AI경진대회\n",
    "## 대왕이 (팀명)\n",
    "## 2020년 7월 3일 (제출날짜)\n",
    "\n",
    "### 코드 제출 규칙\n",
    "\n",
    "- 입상자는 데이콘에서 안내한 양식에 맞추어 코드 제출\n",
    "\n",
    "- R user는 R or .rmd. Python user는 .py or .ipynb로 제출\n",
    "\n",
    "- 코드에 ‘/data’ 데이터 입/출력 경로 포함\n",
    "\n",
    "- 전체 프로세스를 가독성 있게 정리하여 주석 포함 하나의 파일로 제출\n",
    "\n",
    "- 제출 코드는 리더보드 점수를 복원할 수 있어야 함\n",
    "\n",
    "- 모든 코드는 오류 없이 실행되어야 함 (라이브러리 로딩 코드 포함)\n",
    "\n",
    "- 코드와 주석의 인코딩은 UTF-8 사용\n",
    "\n",
    "- AI 모델을 사용해야 함\n",
    "\n",
    "* AI 모델 학습 과정이 있어야 함\n",
    "\n",
    "* Gurobi, FICO 등 상용 솔루션 사용 불가"
   ]
  },
  {
   "cell_type": "markdown",
   "metadata": {},
   "source": [
    "# 0. 분석 환경"
   ]
  },
  {
   "cell_type": "markdown",
   "metadata": {},
   "source": [
    "CPU : Intel(R) Xeon(R) CPU E5-2630 0 @ 2.30GHz (24core)  \n",
    "Memory : 65,943,312kb (64GB)  \n",
    "pandas = 1.0.5  \n",
    "numpy = 1.18.5  \n",
    "matplotlib = 3.2.2  \n",
    "python = 3.8.3"
   ]
  },
  {
   "cell_type": "markdown",
   "metadata": {},
   "source": [
    "## 1. 라이브러리 및 데이터\n",
    "## Library & Data"
   ]
  },
  {
   "cell_type": "code",
   "execution_count": 1,
   "metadata": {
    "ExecuteTime": {
     "end_time": "2020-07-02T15:00:53.570782Z",
     "start_time": "2020-07-02T15:00:52.457691Z"
    }
   },
   "outputs": [],
   "source": [
    "import pandas as pd\n",
    "import numpy as np\n",
    "import multiprocessing\n",
    "import warnings\n",
    "from copy import deepcopy\n",
    "from module.genome import Genome, genome_score\n",
    "import matplotlib.pyplot as plt\n",
    "from module.simulator import Simulator\n",
    "import time\n",
    "\n",
    "warnings.filterwarnings(action='ignore')\n",
    "np.random.seed(777)"
   ]
  },
  {
   "cell_type": "markdown",
   "metadata": {},
   "source": [
    "## 2. 데이터 전처리\n",
    "## Data Cleansing & Pre-Processing  "
   ]
  },
  {
   "cell_type": "code",
   "execution_count": 2,
   "metadata": {
    "ExecuteTime": {
     "end_time": "2020-07-02T15:00:53.631619Z",
     "start_time": "2020-07-02T15:00:53.588668Z"
    }
   },
   "outputs": [],
   "source": [
    "# \"성형\" 공정\n",
    "df_max_count = pd.read_csv('../data/max_count.csv')\n",
    "df_change_time = pd.read_csv('../data/change_time.csv')\n",
    "# \"자르기\" 공정 \n",
    "df_cut_yield = pd.read_csv('../data/cut_yield.csv')\n",
    "# \"계산에 필요한 파일\n",
    "df_order = pd.read_csv('../data/order.csv')\n",
    "df_stock = pd.read_csv('../data/stock.csv')\n",
    "# 제출해야 할 파일\n",
    "df_sample_submission = pd.read_csv('../data/sample_submission.csv')"
   ]
  },
  {
   "cell_type": "markdown",
   "metadata": {},
   "source": [
    "## 3. 탐색적 자료분석\n",
    "## Exploratory Data Analysis"
   ]
  },
  {
   "cell_type": "markdown",
   "metadata": {
    "ExecuteTime": {
     "end_time": "2020-07-02T14:23:45.572416Z",
     "start_time": "2020-07-02T14:23:45.549478Z"
    }
   },
   "source": [
    "* 원형 제작 PRT1, 2, 3, 4\n",
    "* 성형 MOL1 2, 3, 4\n",
    "* 자르기 BLK1, 2, 3, 4  \n",
    "##### 성형공정\n",
    "* max_count\n",
    "date : 날짜  \n",
    "count : 성형 공정 일별 최대 투입 개수 (A, B 라인 동일)\n",
    "* change_time\n",
    "from / to: from에서 to로 제품 변경  \n",
    "time : 변경에 필요한 시간 (단위: 시간)  \n",
    "##### 자르기공정\n",
    "* cut_yield\n",
    "date : 날짜  \n",
    "BLK_1 ~ BLK_4 : 자르기 공정의 각 아이템 월별 양품률 (단위: %)  \n",
    "##### 주문재고\n",
    "* stock  \n",
    "date : 구분자  \n",
    "PRT_1 ~ BLK_4 : 2020.04.01 보유 각 아이템 재고\n",
    "* order  \n",
    "date : 구분자  \n",
    "BLK_1 ~ BLK_4 : 블럭 장난감 일별 수요  \n",
    "##### 제출파일\n",
    "* sample_submission\n",
    "time : 시간 (type: STRING)  \n",
    "PRT_1 ~ PRT_4 : 원형 생산 투입 개수 (type: INT)  \n",
    "Event_A : A 라인 성형 공정 이벤트 (type: STRING)  \n",
    "Event_B : B 라인 성형 공정 이벤트 (type: STRING)  \n",
    "PROCESS: 공정  \n",
    "STOP: 멈춤  \n",
    "CHECK: 점검, 점검 후 공정에 투입할 아이템 번호를 숫자로 구분. ex) 점검 후 PRT_2를 투입하는 경우 CHECK_2로 표현  \n",
    "CHANGE: 성형 공정 아이템 변경, 변경 아이템 번호를 숫자로 구분. ex) 아이템이 MOL_3에서 MOL_2로 변경시 CHANGE_32로 표현  \n",
    "MOL_A : A 라인 성형 공정 아이템 투입 개수 (type: FLOAT)  \n",
    "MOL_B : B 라인 성형 공정 아이템 투입 개수 (type: FLOAT)  \n"
   ]
  },
  {
   "cell_type": "code",
   "execution_count": 3,
   "metadata": {
    "ExecuteTime": {
     "end_time": "2020-07-02T15:00:53.750235Z",
     "start_time": "2020-07-02T15:00:53.742256Z"
    }
   },
   "outputs": [
    {
     "name": "stdout",
     "output_type": "stream",
     "text": [
      "max_count: (91, 2) \n",
      "change_time: (12, 3) \n",
      "cut_yield: (3, 5) \n",
      "order: (91, 5) \n",
      "stock: (1, 12) \n",
      "sample_submission: (2184, 9)\n"
     ]
    }
   ],
   "source": [
    "print('max_count:', df_max_count.shape,\n",
    "      '\\nchange_time:', df_change_time.shape,\n",
    "      \n",
    "      '\\ncut_yield:', df_cut_yield.shape,\n",
    "      \n",
    "      '\\norder:', df_order.shape,\n",
    "      '\\nstock:', df_stock.shape,\n",
    "      '\\nsample_submission:', df_sample_submission.shape)"
   ]
  },
  {
   "cell_type": "code",
   "execution_count": 4,
   "metadata": {
    "ExecuteTime": {
     "end_time": "2020-07-02T15:00:53.872918Z",
     "start_time": "2020-07-02T15:00:53.857948Z"
    },
    "scrolled": true
   },
   "outputs": [
    {
     "data": {
      "text/html": [
       "<div>\n",
       "<style scoped>\n",
       "    .dataframe tbody tr th:only-of-type {\n",
       "        vertical-align: middle;\n",
       "    }\n",
       "\n",
       "    .dataframe tbody tr th {\n",
       "        vertical-align: top;\n",
       "    }\n",
       "\n",
       "    .dataframe thead th {\n",
       "        text-align: right;\n",
       "    }\n",
       "</style>\n",
       "<table border=\"1\" class=\"dataframe\">\n",
       "  <thead>\n",
       "    <tr style=\"text-align: right;\">\n",
       "      <th></th>\n",
       "      <th>date</th>\n",
       "      <th>count</th>\n",
       "    </tr>\n",
       "  </thead>\n",
       "  <tbody>\n",
       "    <tr>\n",
       "      <th>89</th>\n",
       "      <td>2020-06-29</td>\n",
       "      <td>141.018518</td>\n",
       "    </tr>\n",
       "    <tr>\n",
       "      <th>90</th>\n",
       "      <td>2020-06-30</td>\n",
       "      <td>141.018518</td>\n",
       "    </tr>\n",
       "  </tbody>\n",
       "</table>\n",
       "</div>"
      ],
      "text/plain": [
       "          date       count\n",
       "89  2020-06-29  141.018518\n",
       "90  2020-06-30  141.018518"
      ]
     },
     "execution_count": 4,
     "metadata": {},
     "output_type": "execute_result"
    }
   ],
   "source": [
    "df_max_count.tail(2)  # (91, 2)"
   ]
  },
  {
   "cell_type": "code",
   "execution_count": 5,
   "metadata": {
    "ExecuteTime": {
     "end_time": "2020-07-02T15:00:53.995615Z",
     "start_time": "2020-07-02T15:00:53.983659Z"
    }
   },
   "outputs": [
    {
     "data": {
      "text/html": [
       "<div>\n",
       "<style scoped>\n",
       "    .dataframe tbody tr th:only-of-type {\n",
       "        vertical-align: middle;\n",
       "    }\n",
       "\n",
       "    .dataframe tbody tr th {\n",
       "        vertical-align: top;\n",
       "    }\n",
       "\n",
       "    .dataframe thead th {\n",
       "        text-align: right;\n",
       "    }\n",
       "</style>\n",
       "<table border=\"1\" class=\"dataframe\">\n",
       "  <thead>\n",
       "    <tr style=\"text-align: right;\">\n",
       "      <th></th>\n",
       "      <th>from</th>\n",
       "      <th>to</th>\n",
       "      <th>time</th>\n",
       "    </tr>\n",
       "  </thead>\n",
       "  <tbody>\n",
       "    <tr>\n",
       "      <th>0</th>\n",
       "      <td>MOL_1</td>\n",
       "      <td>MOL_2</td>\n",
       "      <td>6</td>\n",
       "    </tr>\n",
       "    <tr>\n",
       "      <th>1</th>\n",
       "      <td>MOL_1</td>\n",
       "      <td>MOL_3</td>\n",
       "      <td>13</td>\n",
       "    </tr>\n",
       "  </tbody>\n",
       "</table>\n",
       "</div>"
      ],
      "text/plain": [
       "    from     to  time\n",
       "0  MOL_1  MOL_2     6\n",
       "1  MOL_1  MOL_3    13"
      ]
     },
     "execution_count": 5,
     "metadata": {},
     "output_type": "execute_result"
    }
   ],
   "source": [
    "df_change_time.head(2)  # (12, 3)\n",
    "# 1,2 or 3,4 끼리는 6시간 / 그외(1-3, 1-4, 2-3, 2-4)는 13시간"
   ]
  },
  {
   "cell_type": "code",
   "execution_count": 6,
   "metadata": {
    "ExecuteTime": {
     "end_time": "2020-07-02T15:00:54.162145Z",
     "start_time": "2020-07-02T15:00:54.146177Z"
    }
   },
   "outputs": [
    {
     "data": {
      "text/html": [
       "<div>\n",
       "<style scoped>\n",
       "    .dataframe tbody tr th:only-of-type {\n",
       "        vertical-align: middle;\n",
       "    }\n",
       "\n",
       "    .dataframe tbody tr th {\n",
       "        vertical-align: top;\n",
       "    }\n",
       "\n",
       "    .dataframe thead th {\n",
       "        text-align: right;\n",
       "    }\n",
       "</style>\n",
       "<table border=\"1\" class=\"dataframe\">\n",
       "  <thead>\n",
       "    <tr style=\"text-align: right;\">\n",
       "      <th></th>\n",
       "      <th>date</th>\n",
       "      <th>BLK_1</th>\n",
       "      <th>BLK_2</th>\n",
       "      <th>BLK_3</th>\n",
       "      <th>BLK_4</th>\n",
       "    </tr>\n",
       "  </thead>\n",
       "  <tbody>\n",
       "    <tr>\n",
       "      <th>0</th>\n",
       "      <td>202004</td>\n",
       "      <td>85.1</td>\n",
       "      <td>90.1</td>\n",
       "      <td>71.0</td>\n",
       "      <td>70.0</td>\n",
       "    </tr>\n",
       "    <tr>\n",
       "      <th>1</th>\n",
       "      <td>202005</td>\n",
       "      <td>85.1</td>\n",
       "      <td>90.1</td>\n",
       "      <td>74.2</td>\n",
       "      <td>73.2</td>\n",
       "    </tr>\n",
       "    <tr>\n",
       "      <th>2</th>\n",
       "      <td>202006</td>\n",
       "      <td>85.1</td>\n",
       "      <td>90.1</td>\n",
       "      <td>75.9</td>\n",
       "      <td>74.9</td>\n",
       "    </tr>\n",
       "  </tbody>\n",
       "</table>\n",
       "</div>"
      ],
      "text/plain": [
       "     date  BLK_1  BLK_2  BLK_3  BLK_4\n",
       "0  202004   85.1   90.1   71.0   70.0\n",
       "1  202005   85.1   90.1   74.2   73.2\n",
       "2  202006   85.1   90.1   75.9   74.9"
      ]
     },
     "execution_count": 6,
     "metadata": {},
     "output_type": "execute_result"
    }
   ],
   "source": [
    "df_cut_yield  # (3, 5)"
   ]
  },
  {
   "cell_type": "code",
   "execution_count": 7,
   "metadata": {
    "ExecuteTime": {
     "end_time": "2020-07-02T15:00:54.292784Z",
     "start_time": "2020-07-02T15:00:54.279819Z"
    }
   },
   "outputs": [
    {
     "data": {
      "text/html": [
       "<div>\n",
       "<style scoped>\n",
       "    .dataframe tbody tr th:only-of-type {\n",
       "        vertical-align: middle;\n",
       "    }\n",
       "\n",
       "    .dataframe tbody tr th {\n",
       "        vertical-align: top;\n",
       "    }\n",
       "\n",
       "    .dataframe thead th {\n",
       "        text-align: right;\n",
       "    }\n",
       "</style>\n",
       "<table border=\"1\" class=\"dataframe\">\n",
       "  <thead>\n",
       "    <tr style=\"text-align: right;\">\n",
       "      <th></th>\n",
       "      <th>time</th>\n",
       "      <th>BLK_1</th>\n",
       "      <th>BLK_2</th>\n",
       "      <th>BLK_3</th>\n",
       "      <th>BLK_4</th>\n",
       "    </tr>\n",
       "  </thead>\n",
       "  <tbody>\n",
       "    <tr>\n",
       "      <th>89</th>\n",
       "      <td>2020-06-29</td>\n",
       "      <td>42499</td>\n",
       "      <td>0</td>\n",
       "      <td>41941</td>\n",
       "      <td>31046</td>\n",
       "    </tr>\n",
       "    <tr>\n",
       "      <th>90</th>\n",
       "      <td>2020-06-30</td>\n",
       "      <td>42499</td>\n",
       "      <td>0</td>\n",
       "      <td>62911</td>\n",
       "      <td>0</td>\n",
       "    </tr>\n",
       "  </tbody>\n",
       "</table>\n",
       "</div>"
      ],
      "text/plain": [
       "          time  BLK_1  BLK_2  BLK_3  BLK_4\n",
       "89  2020-06-29  42499      0  41941  31046\n",
       "90  2020-06-30  42499      0  62911      0"
      ]
     },
     "execution_count": 7,
     "metadata": {},
     "output_type": "execute_result"
    }
   ],
   "source": [
    "df_order.tail(2)  # (91, 5)"
   ]
  },
  {
   "cell_type": "code",
   "execution_count": 8,
   "metadata": {
    "ExecuteTime": {
     "end_time": "2020-07-02T15:00:55.095674Z",
     "start_time": "2020-07-02T15:00:55.063762Z"
    }
   },
   "outputs": [
    {
     "data": {
      "text/html": [
       "<div>\n",
       "<style scoped>\n",
       "    .dataframe tbody tr th:only-of-type {\n",
       "        vertical-align: middle;\n",
       "    }\n",
       "\n",
       "    .dataframe tbody tr th {\n",
       "        vertical-align: top;\n",
       "    }\n",
       "\n",
       "    .dataframe thead th {\n",
       "        text-align: right;\n",
       "    }\n",
       "</style>\n",
       "<table border=\"1\" class=\"dataframe\">\n",
       "  <thead>\n",
       "    <tr style=\"text-align: right;\">\n",
       "      <th></th>\n",
       "      <th>time</th>\n",
       "      <th>BLK_1</th>\n",
       "      <th>BLK_2</th>\n",
       "      <th>BLK_3</th>\n",
       "      <th>BLK_4</th>\n",
       "    </tr>\n",
       "  </thead>\n",
       "  <tbody>\n",
       "    <tr>\n",
       "      <th>89</th>\n",
       "      <td>2020-06-29</td>\n",
       "      <td>83.990119</td>\n",
       "      <td>0.0</td>\n",
       "      <td>104.8525</td>\n",
       "      <td>77.615</td>\n",
       "    </tr>\n",
       "    <tr>\n",
       "      <th>90</th>\n",
       "      <td>2020-06-30</td>\n",
       "      <td>83.990119</td>\n",
       "      <td>0.0</td>\n",
       "      <td>157.2775</td>\n",
       "      <td>0.000</td>\n",
       "    </tr>\n",
       "  </tbody>\n",
       "</table>\n",
       "</div>"
      ],
      "text/plain": [
       "          time      BLK_1  BLK_2     BLK_3   BLK_4\n",
       "89  2020-06-29  83.990119    0.0  104.8525  77.615\n",
       "90  2020-06-30  83.990119    0.0  157.2775   0.000"
      ]
     },
     "execution_count": 8,
     "metadata": {},
     "output_type": "execute_result"
    }
   ],
   "source": [
    "# 필요한 MOL개수 대략적으로 살펴보기\n",
    "onetwo = df_order[['BLK_1', 'BLK_2']]/506\n",
    "threefour = df_order[['BLK_3', 'BLK_4']]/400\n",
    "df_mol = pd.concat([df_order['time'], onetwo, threefour], axis=1)\n",
    "df_mol.tail(2)"
   ]
  },
  {
   "cell_type": "code",
   "execution_count": 9,
   "metadata": {
    "ExecuteTime": {
     "end_time": "2020-07-02T15:00:55.272169Z",
     "start_time": "2020-07-02T15:00:55.257206Z"
    }
   },
   "outputs": [
    {
     "data": {
      "text/html": [
       "<div>\n",
       "<style scoped>\n",
       "    .dataframe tbody tr th:only-of-type {\n",
       "        vertical-align: middle;\n",
       "    }\n",
       "\n",
       "    .dataframe tbody tr th {\n",
       "        vertical-align: top;\n",
       "    }\n",
       "\n",
       "    .dataframe thead th {\n",
       "        text-align: right;\n",
       "    }\n",
       "</style>\n",
       "<table border=\"1\" class=\"dataframe\">\n",
       "  <thead>\n",
       "    <tr style=\"text-align: right;\">\n",
       "      <th></th>\n",
       "      <th>PRT_1</th>\n",
       "      <th>PRT_2</th>\n",
       "      <th>PRT_3</th>\n",
       "      <th>PRT_4</th>\n",
       "      <th>MOL_1</th>\n",
       "      <th>MOL_2</th>\n",
       "      <th>MOL_3</th>\n",
       "      <th>MOL_4</th>\n",
       "      <th>BLK_1</th>\n",
       "      <th>BLK_2</th>\n",
       "      <th>BLK_3</th>\n",
       "      <th>BLK_4</th>\n",
       "    </tr>\n",
       "  </thead>\n",
       "  <tbody>\n",
       "    <tr>\n",
       "      <th>0</th>\n",
       "      <td>0</td>\n",
       "      <td>258</td>\n",
       "      <td>0</td>\n",
       "      <td>0</td>\n",
       "      <td>1086</td>\n",
       "      <td>0</td>\n",
       "      <td>0</td>\n",
       "      <td>0</td>\n",
       "      <td>61158</td>\n",
       "      <td>87279</td>\n",
       "      <td>0</td>\n",
       "      <td>0</td>\n",
       "    </tr>\n",
       "  </tbody>\n",
       "</table>\n",
       "</div>"
      ],
      "text/plain": [
       "   PRT_1  PRT_2  PRT_3  PRT_4  MOL_1  MOL_2  MOL_3  MOL_4  BLK_1  BLK_2  \\\n",
       "0      0    258      0      0   1086      0      0      0  61158  87279   \n",
       "\n",
       "   BLK_3  BLK_4  \n",
       "0      0      0  "
      ]
     },
     "execution_count": 9,
     "metadata": {},
     "output_type": "execute_result"
    }
   ],
   "source": [
    "df_stock  # (1, 12)"
   ]
  },
  {
   "cell_type": "code",
   "execution_count": 10,
   "metadata": {
    "ExecuteTime": {
     "end_time": "2020-07-02T15:00:55.455674Z",
     "start_time": "2020-07-02T15:00:55.440715Z"
    }
   },
   "outputs": [
    {
     "data": {
      "text/html": [
       "<div>\n",
       "<style scoped>\n",
       "    .dataframe tbody tr th:only-of-type {\n",
       "        vertical-align: middle;\n",
       "    }\n",
       "\n",
       "    .dataframe tbody tr th {\n",
       "        vertical-align: top;\n",
       "    }\n",
       "\n",
       "    .dataframe thead th {\n",
       "        text-align: right;\n",
       "    }\n",
       "</style>\n",
       "<table border=\"1\" class=\"dataframe\">\n",
       "  <thead>\n",
       "    <tr style=\"text-align: right;\">\n",
       "      <th></th>\n",
       "      <th>time</th>\n",
       "      <th>PRT_1</th>\n",
       "      <th>PRT_2</th>\n",
       "      <th>PRT_3</th>\n",
       "      <th>PRT_4</th>\n",
       "      <th>Event_A</th>\n",
       "      <th>MOL_A</th>\n",
       "      <th>Event_B</th>\n",
       "      <th>MOL_B</th>\n",
       "    </tr>\n",
       "  </thead>\n",
       "  <tbody>\n",
       "    <tr>\n",
       "      <th>2182</th>\n",
       "      <td>2020-06-30 22:00:00</td>\n",
       "      <td>0</td>\n",
       "      <td>0</td>\n",
       "      <td>0</td>\n",
       "      <td>0</td>\n",
       "      <td>CHECK_3</td>\n",
       "      <td>0</td>\n",
       "      <td>CHECK_3</td>\n",
       "      <td>0</td>\n",
       "    </tr>\n",
       "    <tr>\n",
       "      <th>2183</th>\n",
       "      <td>2020-06-30 23:00:00</td>\n",
       "      <td>0</td>\n",
       "      <td>0</td>\n",
       "      <td>0</td>\n",
       "      <td>0</td>\n",
       "      <td>CHECK_3</td>\n",
       "      <td>0</td>\n",
       "      <td>CHECK_3</td>\n",
       "      <td>0</td>\n",
       "    </tr>\n",
       "  </tbody>\n",
       "</table>\n",
       "</div>"
      ],
      "text/plain": [
       "                     time  PRT_1  PRT_2  PRT_3  PRT_4  Event_A  MOL_A  \\\n",
       "2182  2020-06-30 22:00:00      0      0      0      0  CHECK_3      0   \n",
       "2183  2020-06-30 23:00:00      0      0      0      0  CHECK_3      0   \n",
       "\n",
       "      Event_B  MOL_B  \n",
       "2182  CHECK_3      0  \n",
       "2183  CHECK_3      0  "
      ]
     },
     "execution_count": 10,
     "metadata": {},
     "output_type": "execute_result"
    }
   ],
   "source": [
    "df_sample_submission.tail(2)"
   ]
  },
  {
   "cell_type": "markdown",
   "metadata": {},
   "source": [
    "## 4. 변수 선택 및 모델 구축\n",
    "## Feature Engineering & Initial Modeling  "
   ]
  },
  {
   "cell_type": "markdown",
   "metadata": {},
   "source": [
    "* Hyper parameter"
   ]
  },
  {
   "cell_type": "code",
   "execution_count": 11,
   "metadata": {
    "ExecuteTime": {
     "end_time": "2020-07-02T15:00:56.032135Z",
     "start_time": "2020-07-02T15:00:56.024159Z"
    }
   },
   "outputs": [],
   "source": [
    "CPU_CORE = multiprocessing.cpu_count() # 멀티프로세싱 CPU 사용 수\n",
    "\n",
    "N_POPULATION = 50                      # 세대당 생성수\n",
    "N_BEST = 5                             # 베스트 수\n",
    "N_CHILDREN = 5                         # 자손 유전자 수\n",
    "PROB_MUTATION = 0.5                    # 돌연변이\n",
    "REVERSE = False                        # 배열 순서 (False: ascending order, True: descending order)\n",
    "EPOCHS = 160                            # 반복 횟수\n",
    "\n",
    "score_ini = 1e8                        # 초기 점수\n",
    "input_length = 125                     # 입력 데이터 길이\n",
    "output_length_1 = 5                    # Event (CHECK_1~4, PROCESS)\n",
    "output_length_2 = 12                   # MOL(0~5.5, step:0.5)\n",
    "h1 = 50                                # 히든레이어1 노드 수\n",
    "h2 = 50                                # 히든레이어2 노드 수\n",
    "h3 = 50                                # 히든레이어3 노드 수"
   ]
  },
  {
   "cell_type": "markdown",
   "metadata": {},
   "source": [
    "* Initial Modeling"
   ]
  },
  {
   "cell_type": "code",
   "execution_count": 12,
   "metadata": {
    "ExecuteTime": {
     "end_time": "2020-07-02T15:00:56.520865Z",
     "start_time": "2020-07-02T15:00:56.452054Z"
    }
   },
   "outputs": [],
   "source": [
    "# genomes는 전체 유전자를 가지고 있는 리스트\n",
    "# best_genomes는 좋은 유전자를 가지고 있는 리스트\n",
    "\n",
    "# 각 객체들의 인스턴스 생성\n",
    "genomes = []\n",
    "for _ in range(N_POPULATION):\n",
    "    genome = Genome(score_ini, input_length, output_length_1, output_length_2, h1, h2, h3)\n",
    "    genomes.append(genome)\n",
    "try:\n",
    "    for i in range(N_BEST):\n",
    "        genomes[i] = best_genomes[i]        \n",
    "except:\n",
    "    best_genomes = []\n",
    "    for _ in range(N_BEST):\n",
    "        genome = Genome(score_ini, input_length, output_length_1, output_length_2, h1, h2, h3)\n",
    "        best_genomes.append(genome)"
   ]
  },
  {
   "cell_type": "markdown",
   "metadata": {},
   "source": [
    "## 5. 모델 학습 및 검증\n",
    "## Model Tuning & Evaluation"
   ]
  },
  {
   "cell_type": "markdown",
   "metadata": {},
   "source": [
    "* Modeling"
   ]
  },
  {
   "cell_type": "code",
   "execution_count": 13,
   "metadata": {
    "ExecuteTime": {
     "end_time": "2020-07-02T20:16:56.464219Z",
     "start_time": "2020-07-02T15:00:57.631889Z"
    },
    "scrolled": false
   },
   "outputs": [
    {
     "name": "stdout",
     "output_type": "stream",
     "text": [
      "EPOCH #1\tHistory Best Score: 60448827.0\tBest Score: 60448827.0\tMean Score: 72045590.6\n",
      "EPOCH #2\tHistory Best Score: 60448827.0\tBest Score: 68156874.0\tMean Score: 69095127.4\n",
      "EPOCH #3\tHistory Best Score: 54902130.0\tBest Score: 54902130.0\tMean Score: 64843827.2\n",
      "EPOCH #4\tHistory Best Score: 45893911.0\tBest Score: 45893911.0\tMean Score: 56589759.8\n",
      "EPOCH #5\tHistory Best Score: 45893911.0\tBest Score: 55189360.0\tMean Score: 57735583.0\n",
      "EPOCH #6\tHistory Best Score: 45893911.0\tBest Score: 50058564.0\tMean Score: 52909843.8\n",
      "EPOCH #7\tHistory Best Score: 45893911.0\tBest Score: 53806360.0\tMean Score: 57759270.8\n",
      "EPOCH #8\tHistory Best Score: 45893911.0\tBest Score: 48853503.0\tMean Score: 52429100.0\n",
      "EPOCH #9\tHistory Best Score: 45893911.0\tBest Score: 54506509.0\tMean Score: 59566668.8\n",
      "EPOCH #10\tHistory Best Score: 45893911.0\tBest Score: 48126235.0\tMean Score: 57519292.8\n",
      "EPOCH #11\tHistory Best Score: 45893911.0\tBest Score: 45893911.0\tMean Score: 50617006.4\n",
      "EPOCH #12\tHistory Best Score: 45893911.0\tBest Score: 51494672.0\tMean Score: 52828722.8\n",
      "EPOCH #13\tHistory Best Score: 43746624.0\tBest Score: 43746624.0\tMean Score: 47879663.0\n",
      "EPOCH #14\tHistory Best Score: 43746624.0\tBest Score: 47988714.0\tMean Score: 48657021.0\n",
      "EPOCH #15\tHistory Best Score: 43746624.0\tBest Score: 44599077.0\tMean Score: 49756592.6\n",
      "EPOCH #16\tHistory Best Score: 40709197.0\tBest Score: 40709197.0\tMean Score: 48776341.2\n",
      "EPOCH #17\tHistory Best Score: 40709197.0\tBest Score: 43906245.0\tMean Score: 47761641.8\n",
      "EPOCH #18\tHistory Best Score: 40709197.0\tBest Score: 46077486.0\tMean Score: 50998318.8\n",
      "EPOCH #19\tHistory Best Score: 40709197.0\tBest Score: 41605095.0\tMean Score: 47331882.6\n",
      "EPOCH #20\tHistory Best Score: 40709197.0\tBest Score: 50953010.0\tMean Score: 52957565.6\n",
      "EPOCH #21\tHistory Best Score: 40709197.0\tBest Score: 45236516.0\tMean Score: 48033523.2\n",
      "EPOCH #22\tHistory Best Score: 40709197.0\tBest Score: 41024177.0\tMean Score: 50511174.6\n",
      "EPOCH #23\tHistory Best Score: 40709197.0\tBest Score: 51336544.0\tMean Score: 55461903.8\n",
      "EPOCH #24\tHistory Best Score: 40709197.0\tBest Score: 44754312.0\tMean Score: 52978998.8\n",
      "EPOCH #25\tHistory Best Score: 40709197.0\tBest Score: 48530996.0\tMean Score: 53520208.4\n",
      "EPOCH #26\tHistory Best Score: 40709197.0\tBest Score: 43595230.0\tMean Score: 47290294.2\n",
      "EPOCH #27\tHistory Best Score: 40709197.0\tBest Score: 43022670.0\tMean Score: 46059578.6\n",
      "EPOCH #28\tHistory Best Score: 40709197.0\tBest Score: 46787451.0\tMean Score: 50091156.4\n",
      "EPOCH #29\tHistory Best Score: 40709197.0\tBest Score: 42441301.0\tMean Score: 53471074.0\n",
      "EPOCH #30\tHistory Best Score: 40709197.0\tBest Score: 41685200.0\tMean Score: 44669201.2\n",
      "EPOCH #31\tHistory Best Score: 40709197.0\tBest Score: 45001873.0\tMean Score: 46396155.8\n",
      "EPOCH #32\tHistory Best Score: 40709197.0\tBest Score: 42783348.0\tMean Score: 45732468.0\n",
      "EPOCH #33\tHistory Best Score: 40709197.0\tBest Score: 46438044.0\tMean Score: 52995391.2\n",
      "EPOCH #34\tHistory Best Score: 40709197.0\tBest Score: 45660010.0\tMean Score: 47344509.8\n",
      "EPOCH #35\tHistory Best Score: 40709197.0\tBest Score: 45367595.0\tMean Score: 50587531.2\n",
      "EPOCH #36\tHistory Best Score: 40709197.0\tBest Score: 43923792.0\tMean Score: 49541075.2\n",
      "EPOCH #37\tHistory Best Score: 40709197.0\tBest Score: 41834257.0\tMean Score: 48578641.6\n",
      "EPOCH #38\tHistory Best Score: 40709197.0\tBest Score: 43094793.0\tMean Score: 45799370.2\n",
      "EPOCH #39\tHistory Best Score: 40304044.0\tBest Score: 40304044.0\tMean Score: 47647431.4\n",
      "EPOCH #40\tHistory Best Score: 40304044.0\tBest Score: 47785811.0\tMean Score: 49908882.0\n",
      "EPOCH #41\tHistory Best Score: 40304044.0\tBest Score: 43296429.0\tMean Score: 47805685.4\n",
      "EPOCH #42\tHistory Best Score: 40304044.0\tBest Score: 49348861.0\tMean Score: 53482102.4\n",
      "EPOCH #43\tHistory Best Score: 40304044.0\tBest Score: 41200633.0\tMean Score: 53048990.0\n",
      "EPOCH #44\tHistory Best Score: 40304044.0\tBest Score: 50232722.0\tMean Score: 55001362.6\n",
      "EPOCH #45\tHistory Best Score: 40304044.0\tBest Score: 48496037.0\tMean Score: 52068563.4\n",
      "EPOCH #46\tHistory Best Score: 40304044.0\tBest Score: 49993407.0\tMean Score: 51507581.6\n",
      "EPOCH #47\tHistory Best Score: 40304044.0\tBest Score: 44147382.0\tMean Score: 49269283.2\n",
      "EPOCH #48\tHistory Best Score: 40304044.0\tBest Score: 47511146.0\tMean Score: 50277198.8\n",
      "EPOCH #49\tHistory Best Score: 40304044.0\tBest Score: 44416206.0\tMean Score: 49032898.6\n",
      "EPOCH #50\tHistory Best Score: 40304044.0\tBest Score: 40304044.0\tMean Score: 48345162.0\n",
      "EPOCH #51\tHistory Best Score: 40304044.0\tBest Score: 43945735.0\tMean Score: 49258201.4\n",
      "EPOCH #52\tHistory Best Score: 40304044.0\tBest Score: 44777125.0\tMean Score: 48516377.8\n",
      "EPOCH #53\tHistory Best Score: 40304044.0\tBest Score: 44889614.0\tMean Score: 47203527.4\n",
      "EPOCH #54\tHistory Best Score: 40304044.0\tBest Score: 46716949.0\tMean Score: 48696354.8\n",
      "EPOCH #55\tHistory Best Score: 40304044.0\tBest Score: 45157293.0\tMean Score: 48190223.8\n",
      "EPOCH #56\tHistory Best Score: 40304044.0\tBest Score: 48349828.0\tMean Score: 52386789.2\n",
      "EPOCH #57\tHistory Best Score: 40304044.0\tBest Score: 45059804.0\tMean Score: 48866123.4\n",
      "EPOCH #58\tHistory Best Score: 40304044.0\tBest Score: 42603360.0\tMean Score: 47711989.0\n",
      "EPOCH #59\tHistory Best Score: 40304044.0\tBest Score: 43899733.0\tMean Score: 51212501.4\n",
      "EPOCH #60\tHistory Best Score: 40304044.0\tBest Score: 44807627.0\tMean Score: 50594075.2\n",
      "EPOCH #61\tHistory Best Score: 40304044.0\tBest Score: 47095033.0\tMean Score: 49805143.2\n",
      "EPOCH #62\tHistory Best Score: 40304044.0\tBest Score: 45042924.0\tMean Score: 47053637.4\n",
      "EPOCH #63\tHistory Best Score: 40304044.0\tBest Score: 40304044.0\tMean Score: 45030604.8\n",
      "EPOCH #64\tHistory Best Score: 39953687.0\tBest Score: 39953687.0\tMean Score: 43126744.4\n",
      "EPOCH #65\tHistory Best Score: 39953687.0\tBest Score: 42756683.0\tMean Score: 45101220.8\n",
      "EPOCH #66\tHistory Best Score: 39953687.0\tBest Score: 48207897.0\tMean Score: 48971018.4\n",
      "EPOCH #67\tHistory Best Score: 39953687.0\tBest Score: 44416318.0\tMean Score: 46302138.4\n",
      "EPOCH #68\tHistory Best Score: 39953687.0\tBest Score: 42538435.0\tMean Score: 46233603.0\n",
      "EPOCH #69\tHistory Best Score: 39953687.0\tBest Score: 45732613.0\tMean Score: 48110363.2\n",
      "EPOCH #70\tHistory Best Score: 39953687.0\tBest Score: 42180192.0\tMean Score: 45843614.6\n",
      "EPOCH #71\tHistory Best Score: 39953687.0\tBest Score: 42442916.0\tMean Score: 46197404.2\n",
      "EPOCH #72\tHistory Best Score: 39953687.0\tBest Score: 42854767.0\tMean Score: 45345312.4\n",
      "EPOCH #73\tHistory Best Score: 39953687.0\tBest Score: 43439979.0\tMean Score: 46256872.0\n",
      "EPOCH #74\tHistory Best Score: 39953687.0\tBest Score: 40304044.0\tMean Score: 43933507.0\n",
      "EPOCH #75\tHistory Best Score: 39953687.0\tBest Score: 46176860.0\tMean Score: 47371474.6\n",
      "EPOCH #76\tHistory Best Score: 39953687.0\tBest Score: 41733280.0\tMean Score: 45083438.4\n",
      "EPOCH #77\tHistory Best Score: 39953687.0\tBest Score: 40304044.0\tMean Score: 45142419.8\n",
      "EPOCH #78\tHistory Best Score: 39953687.0\tBest Score: 45049613.0\tMean Score: 46069613.0\n",
      "EPOCH #79\tHistory Best Score: 39953687.0\tBest Score: 45084987.0\tMean Score: 47180920.8\n",
      "EPOCH #80\tHistory Best Score: 39953687.0\tBest Score: 44508606.0\tMean Score: 45672220.0\n",
      "EPOCH #81\tHistory Best Score: 39953687.0\tBest Score: 43530864.0\tMean Score: 45370910.6\n",
      "EPOCH #82\tHistory Best Score: 39953687.0\tBest Score: 44092035.0\tMean Score: 47380443.8\n",
      "EPOCH #83\tHistory Best Score: 39953687.0\tBest Score: 45236698.0\tMean Score: 46377053.4\n",
      "EPOCH #84\tHistory Best Score: 39953687.0\tBest Score: 46400997.0\tMean Score: 49382519.6\n",
      "EPOCH #85\tHistory Best Score: 39953687.0\tBest Score: 42914635.0\tMean Score: 45507016.4\n",
      "EPOCH #86\tHistory Best Score: 39953687.0\tBest Score: 44180128.0\tMean Score: 45601967.0\n",
      "EPOCH #87\tHistory Best Score: 39953687.0\tBest Score: 42120857.0\tMean Score: 45506250.0\n",
      "EPOCH #88\tHistory Best Score: 39953687.0\tBest Score: 42166839.0\tMean Score: 45710192.8\n",
      "EPOCH #89\tHistory Best Score: 39953687.0\tBest Score: 42445433.0\tMean Score: 45614421.8\n",
      "EPOCH #90\tHistory Best Score: 39953687.0\tBest Score: 46849643.0\tMean Score: 48774515.0\n",
      "EPOCH #91\tHistory Best Score: 39953687.0\tBest Score: 44173782.0\tMean Score: 45284213.4\n",
      "EPOCH #92\tHistory Best Score: 39953687.0\tBest Score: 42439694.0\tMean Score: 45696561.2\n",
      "EPOCH #93\tHistory Best Score: 39953687.0\tBest Score: 42916425.0\tMean Score: 46017352.4\n",
      "EPOCH #94\tHistory Best Score: 39953687.0\tBest Score: 47590829.0\tMean Score: 49161542.0\n",
      "EPOCH #95\tHistory Best Score: 39904231.0\tBest Score: 39904231.0\tMean Score: 43712950.8\n"
     ]
    },
    {
     "name": "stdout",
     "output_type": "stream",
     "text": [
      "EPOCH #96\tHistory Best Score: 39904231.0\tBest Score: 41305141.0\tMean Score: 42799340.0\n",
      "EPOCH #97\tHistory Best Score: 39904231.0\tBest Score: 41190600.0\tMean Score: 43117859.0\n",
      "EPOCH #98\tHistory Best Score: 39904231.0\tBest Score: 45798594.0\tMean Score: 48042992.0\n",
      "EPOCH #99\tHistory Best Score: 39904231.0\tBest Score: 43011427.0\tMean Score: 47434806.2\n",
      "EPOCH #100\tHistory Best Score: 39904231.0\tBest Score: 48134835.0\tMean Score: 48514577.6\n",
      "EPOCH #101\tHistory Best Score: 39904231.0\tBest Score: 43931296.0\tMean Score: 45714473.2\n",
      "EPOCH #102\tHistory Best Score: 39904231.0\tBest Score: 42151968.0\tMean Score: 45228465.6\n",
      "EPOCH #103\tHistory Best Score: 39904231.0\tBest Score: 39904231.0\tMean Score: 45269524.6\n",
      "EPOCH #104\tHistory Best Score: 39904231.0\tBest Score: 48169188.0\tMean Score: 49365794.8\n",
      "EPOCH #105\tHistory Best Score: 39904231.0\tBest Score: 44631059.0\tMean Score: 46395226.2\n",
      "EPOCH #106\tHistory Best Score: 39904231.0\tBest Score: 40475412.0\tMean Score: 43833660.6\n",
      "EPOCH #107\tHistory Best Score: 39904231.0\tBest Score: 40964453.0\tMean Score: 44621289.6\n",
      "EPOCH #108\tHistory Best Score: 39904231.0\tBest Score: 40775072.0\tMean Score: 43617973.6\n",
      "EPOCH #109\tHistory Best Score: 39904231.0\tBest Score: 45352794.0\tMean Score: 48340726.8\n",
      "EPOCH #110\tHistory Best Score: 39904231.0\tBest Score: 42743993.0\tMean Score: 46832722.8\n",
      "EPOCH #111\tHistory Best Score: 39904231.0\tBest Score: 41896046.0\tMean Score: 45291501.2\n",
      "EPOCH #112\tHistory Best Score: 39904231.0\tBest Score: 42823583.0\tMean Score: 44008681.4\n",
      "EPOCH #113\tHistory Best Score: 39904231.0\tBest Score: 45865675.0\tMean Score: 46914108.4\n",
      "EPOCH #114\tHistory Best Score: 39904231.0\tBest Score: 46822203.0\tMean Score: 48794461.8\n",
      "EPOCH #115\tHistory Best Score: 39904231.0\tBest Score: 44047632.0\tMean Score: 46631023.4\n",
      "EPOCH #116\tHistory Best Score: 39904231.0\tBest Score: 46783118.0\tMean Score: 48038626.8\n",
      "EPOCH #117\tHistory Best Score: 39904231.0\tBest Score: 41644373.0\tMean Score: 43540739.2\n",
      "EPOCH #118\tHistory Best Score: 39904231.0\tBest Score: 41056835.0\tMean Score: 44469211.8\n",
      "EPOCH #119\tHistory Best Score: 39904231.0\tBest Score: 42273863.0\tMean Score: 47024170.2\n",
      "EPOCH #120\tHistory Best Score: 39904231.0\tBest Score: 42870232.0\tMean Score: 45477774.2\n",
      "EPOCH #121\tHistory Best Score: 39904231.0\tBest Score: 39904231.0\tMean Score: 44342227.8\n",
      "EPOCH #122\tHistory Best Score: 39904231.0\tBest Score: 45141044.0\tMean Score: 46881820.8\n",
      "EPOCH #123\tHistory Best Score: 39904231.0\tBest Score: 42805341.0\tMean Score: 44518176.4\n",
      "EPOCH #124\tHistory Best Score: 39904231.0\tBest Score: 41960765.0\tMean Score: 45941830.6\n",
      "EPOCH #125\tHistory Best Score: 39904231.0\tBest Score: 41726098.0\tMean Score: 43163165.6\n",
      "EPOCH #126\tHistory Best Score: 39904231.0\tBest Score: 42084009.0\tMean Score: 43746789.4\n",
      "EPOCH #127\tHistory Best Score: 39904231.0\tBest Score: 40448955.0\tMean Score: 44462613.6\n",
      "EPOCH #128\tHistory Best Score: 39904231.0\tBest Score: 41851729.0\tMean Score: 44433515.2\n",
      "EPOCH #129\tHistory Best Score: 39904231.0\tBest Score: 41741684.0\tMean Score: 44921249.2\n",
      "EPOCH #130\tHistory Best Score: 39904231.0\tBest Score: 40574944.0\tMean Score: 44164165.8\n",
      "EPOCH #131\tHistory Best Score: 39904231.0\tBest Score: 45243927.0\tMean Score: 47282532.4\n",
      "EPOCH #132\tHistory Best Score: 39904231.0\tBest Score: 39904231.0\tMean Score: 42665670.2\n",
      "EPOCH #133\tHistory Best Score: 39904231.0\tBest Score: 39904231.0\tMean Score: 41964415.4\n",
      "EPOCH #134\tHistory Best Score: 39904231.0\tBest Score: 40530491.0\tMean Score: 43243903.0\n",
      "EPOCH #135\tHistory Best Score: 39904231.0\tBest Score: 42581362.0\tMean Score: 44400778.2\n",
      "EPOCH #136\tHistory Best Score: 39904231.0\tBest Score: 39904231.0\tMean Score: 43716687.6\n",
      "EPOCH #137\tHistory Best Score: 39904231.0\tBest Score: 42290911.0\tMean Score: 44650334.0\n",
      "EPOCH #138\tHistory Best Score: 39904231.0\tBest Score: 40174966.0\tMean Score: 43370835.2\n",
      "EPOCH #139\tHistory Best Score: 39904231.0\tBest Score: 39904231.0\tMean Score: 40712454.2\n",
      "EPOCH #140\tHistory Best Score: 39904231.0\tBest Score: 40478629.0\tMean Score: 43903273.6\n",
      "EPOCH #141\tHistory Best Score: 39904231.0\tBest Score: 43103964.0\tMean Score: 44501590.4\n",
      "EPOCH #142\tHistory Best Score: 39904231.0\tBest Score: 43555646.0\tMean Score: 46756028.0\n",
      "EPOCH #143\tHistory Best Score: 39904231.0\tBest Score: 43639752.0\tMean Score: 45441036.8\n",
      "EPOCH #144\tHistory Best Score: 39904231.0\tBest Score: 39904231.0\tMean Score: 43622498.4\n",
      "EPOCH #145\tHistory Best Score: 39904231.0\tBest Score: 42735012.0\tMean Score: 44408931.4\n",
      "EPOCH #146\tHistory Best Score: 39904231.0\tBest Score: 40254344.0\tMean Score: 43713430.4\n",
      "EPOCH #147\tHistory Best Score: 39904231.0\tBest Score: 42095419.0\tMean Score: 44565545.0\n",
      "EPOCH #148\tHistory Best Score: 39904231.0\tBest Score: 43557505.0\tMean Score: 44994823.2\n",
      "EPOCH #149\tHistory Best Score: 39904231.0\tBest Score: 42724560.0\tMean Score: 46762782.6\n",
      "EPOCH #150\tHistory Best Score: 39904231.0\tBest Score: 40688047.0\tMean Score: 46014685.4\n",
      "EPOCH #151\tHistory Best Score: 39904231.0\tBest Score: 41927668.0\tMean Score: 46266632.4\n",
      "EPOCH #152\tHistory Best Score: 39904231.0\tBest Score: 40425149.0\tMean Score: 41260749.8\n",
      "EPOCH #153\tHistory Best Score: 39187823.0\tBest Score: 39187823.0\tMean Score: 42695357.6\n",
      "EPOCH #154\tHistory Best Score: 39187823.0\tBest Score: 42106044.0\tMean Score: 43206453.0\n",
      "EPOCH #155\tHistory Best Score: 39187823.0\tBest Score: 39904231.0\tMean Score: 42294766.6\n",
      "EPOCH #156\tHistory Best Score: 39187823.0\tBest Score: 39717722.0\tMean Score: 42143125.2\n",
      "EPOCH #157\tHistory Best Score: 39187823.0\tBest Score: 39799292.0\tMean Score: 42635638.8\n",
      "EPOCH #158\tHistory Best Score: 39187823.0\tBest Score: 41554652.0\tMean Score: 44010562.4\n",
      "EPOCH #159\tHistory Best Score: 39187823.0\tBest Score: 42128847.0\tMean Score: 44994588.2\n",
      "EPOCH #160\tHistory Best Score: 39187823.0\tBest Score: 40529661.0\tMean Score: 43417829.0\n",
      "time: 7247.550525665283\n"
     ]
    }
   ],
   "source": [
    "n_gen = 1\n",
    "score_history = []\n",
    "high_score_history = []\n",
    "mean_score_history = []\n",
    "\n",
    "start = time.time()\n",
    "while n_gen <= EPOCHS:\n",
    "    # CPU_CORE 개수만큼 multi processing. 하나의 리스트를 cpu_core개수만큼의 열을 가진 행렬로 reshape한 후, 병렬로 처리\n",
    "    genomes = np.array(genomes)\n",
    "    while len(genomes)%CPU_CORE != 0:\n",
    "        genomes = np.append(genomes, Genome(score_ini, input_length, output_length_1, output_length_2, h1, h2, h3))\n",
    "    genomes = genomes.reshape((len(genomes)//CPU_CORE, CPU_CORE))\n",
    "    for idx, _genomes in enumerate(genomes):\n",
    "        if __name__ == '__main__':\n",
    "            pool = multiprocessing.Pool(processes=CPU_CORE)\n",
    "            genomes[idx] = pool.map(genome_score, _genomes)  # 각 인스턴스의 score 계산\n",
    "            pool.close()\n",
    "            pool.join()\n",
    "    genomes = list(genomes.reshape(genomes.shape[0]*genomes.shape[1]))\n",
    "    genomes.sort(key=lambda x: x.score, reverse=REVERSE)\n",
    "    \n",
    "    # 유전자(인스턴스)들의 점수 기록\n",
    "    s = 0 \n",
    "    for i in range(N_BEST):\n",
    "        s += genomes[i].score\n",
    "    s /= N_BEST\n",
    "    bs = genomes[0].score\n",
    "    if best_genomes is not None:\n",
    "        genomes.extend(best_genomes)\n",
    "    genomes.sort(key=lambda x: x.score, reverse=REVERSE)\n",
    "    \n",
    "    score_history.append([n_gen, genomes[0].score])\n",
    "    high_score_history.append([n_gen, bs])\n",
    "    mean_score_history.append([n_gen, s])\n",
    "    \n",
    "    # 결과 출력\n",
    "    print('EPOCH #%s\\tHistory Best Score: %s\\tBest Score: %s\\tMean Score: %s' % (n_gen, genomes[0].score, bs, s))\n",
    "    # 모델 업데이트\n",
    "    best_genomes = deepcopy(genomes[:N_BEST])\n",
    "    # CHILDREN 생성\n",
    "    for i in range(N_CHILDREN):\n",
    "        # 아무 유전자 a, b를 뽑은 후, 반씩 섞인 가중치 행렬 생성\n",
    "        new_genome = deepcopy(best_genomes[0])\n",
    "        a_genome = np.random.choice(best_genomes)\n",
    "        b_genome = np.random.choice(best_genomes)\n",
    "        \n",
    "        for j in range(input_length):\n",
    "            cut = np.random.randint(new_genome.w1.shape[1])\n",
    "            new_genome.w1[j, :cut] = a_genome.w1[j, :cut]\n",
    "            new_genome.w1[j, cut:] = b_genome.w1[j, cut:]\n",
    "        for j in range(h1):\n",
    "            cut = np.random.randint(new_genome.w2.shape[1])\n",
    "            new_genome.w2[j, :cut] = a_genome.w2[j, :cut]\n",
    "            new_genome.w2[j, cut:] = b_genome.w2[j, cut:]\n",
    "        for j in range(h2):\n",
    "            cut = np.random.randint(new_genome.w3.shape[1])\n",
    "            new_genome.w3[j, :cut] = a_genome.w3[j, :cut]\n",
    "            new_genome.w3[j, cut:] = b_genome.w3[j, cut:]\n",
    "        for j in range(h3):\n",
    "            cut = np.random.randint(new_genome.w4.shape[1])\n",
    "            new_genome.w4[j, :cut] = a_genome.w4[j, :cut]\n",
    "            new_genome.w4[j, cut:] = b_genome.w4[j, cut:]\n",
    "        for j in range(input_length):\n",
    "            cut = np.random.randint(new_genome.w5.shape[1])\n",
    "            new_genome.w5[j, :cut] = a_genome.w5[j, :cut]\n",
    "            new_genome.w5[j, cut:] = b_genome.w5[j, cut:]\n",
    "        for j in range(h1):\n",
    "            cut = np.random.randint(new_genome.w6.shape[1])\n",
    "            new_genome.w6[j, :cut] = a_genome.w6[j, :cut]\n",
    "            new_genome.w6[j, cut:] = b_genome.w6[j, cut:]\n",
    "        for j in range(h2):\n",
    "            cut = np.random.randint(new_genome.w7.shape[1])\n",
    "            new_genome.w7[j, :cut] = a_genome.w7[j, :cut]\n",
    "            new_genome.w7[j, cut:] = b_genome.w7[j, cut:]\n",
    "        for j in range(h3):\n",
    "            cut = np.random.randint(new_genome.w8.shape[1])\n",
    "            new_genome.w8[j, :cut] = a_genome.w8[j, :cut]\n",
    "            new_genome.w8[j, cut:] = b_genome.w8[j, cut:]\n",
    "        best_genomes.append(new_genome)\n",
    "    # 모델 초기화\n",
    "    genomes = []\n",
    "    for i in range(int(N_POPULATION / len(best_genomes))):\n",
    "        for bg in best_genomes:\n",
    "            new_genome = deepcopy(bg)\n",
    "            mean = 0\n",
    "            stddev = 0.2\n",
    "            # 돌연변이 생성\n",
    "            if np.random.uniform(0, 1) < PROB_MUTATION:\n",
    "                new_genome.w1 += new_genome.w1 * np.random.normal(mean, stddev, size=(input_length, h1)) * np.random.randint(0, 2, (input_length, h1))\n",
    "            if np.random.uniform(0, 1) < PROB_MUTATION:\n",
    "                new_genome.w2 += new_genome.w2 * np.random.normal(mean, stddev, size=(h1, h2)) * np.random.randint(0, 2, (h1, h2))\n",
    "            if np.random.uniform(0, 1) < PROB_MUTATION:\n",
    "                new_genome.w3 += new_genome.w3 * np.random.normal(mean, stddev, size=(h2, h3)) * np.random.randint(0, 2, (h2, h3))\n",
    "            if np.random.uniform(0, 1) < PROB_MUTATION:\n",
    "                new_genome.w4 += new_genome.w4 * np.random.normal(mean, stddev, size=(h3, output_length_1)) * np.random.randint(0, 2, (h3, output_length_1))                \n",
    "            if np.random.uniform(0, 1) < PROB_MUTATION:\n",
    "                new_genome.w5 += new_genome.w5 * np.random.normal(mean, stddev, size=(input_length, h1)) * np.random.randint(0, 2, (input_length, h1))\n",
    "            if np.random.uniform(0, 1) < PROB_MUTATION:\n",
    "                new_genome.w6 += new_genome.w6 * np.random.normal(mean, stddev, size=(h1, h2)) * np.random.randint(0, 2, (h1, h2))\n",
    "            if np.random.uniform(0, 1) < PROB_MUTATION:\n",
    "                new_genome.w7 += new_genome.w7 * np.random.normal(mean, stddev, size=(h2, h3)) * np.random.randint(0, 2, (h2, h3))\n",
    "            if np.random.uniform(0, 1) < PROB_MUTATION:\n",
    "                new_genome.w8 += new_genome.w8 * np.random.normal(mean, stddev, size=(h3, output_length_2)) * np.random.randint(0, 2, (h3, output_length_2))\n",
    "            genomes.append(new_genome)\n",
    "    if REVERSE:\n",
    "        if bs < score_ini:\n",
    "            genomes[len(genomes)//2:] = [Genome(score_ini, input_length, output_length_1, output_length_2, h1, h2, h3) for _ in range(N_POPULATION//2)]\n",
    "    else:\n",
    "        if bs > score_ini:\n",
    "            genomes[len(genomes)//2:] = [Genome(score_ini, input_length, output_length_1, output_length_2, h1, h2, h3) for _ in range(N_POPULATION//2)]  \n",
    "    n_gen += 1\n",
    "print('time:', time.time() - start)"
   ]
  },
  {
   "cell_type": "markdown",
   "metadata": {},
   "source": [
    "## 6. 결과 및 결언\n",
    "## Conclusion & Discussion"
   ]
  },
  {
   "cell_type": "markdown",
   "metadata": {},
   "source": [
    "# 결과"
   ]
  },
  {
   "cell_type": "code",
   "execution_count": 14,
   "metadata": {
    "ExecuteTime": {
     "end_time": "2020-07-02T20:16:56.964924Z",
     "start_time": "2020-07-02T20:16:56.661691Z"
    }
   },
   "outputs": [
    {
     "data": {
      "image/png": "[encoded data removed]",
      "text/plain": [
       "<Figure size 432x288 with 1 Axes>"
      ]
     },
     "metadata": {
      "needs_background": "light"
     },
     "output_type": "display_data"
    }
   ],
   "source": [
    "# Score Graph\n",
    "score_history = np.array(score_history)\n",
    "high_score_history = np.array(high_score_history)\n",
    "mean_score_history = np.array(mean_score_history)\n",
    "\n",
    "plt.plot(score_history[:,0], score_history[:,1], '-o', label='BEST')\n",
    "plt.plot(high_score_history[:,0], high_score_history[:,1], '-o', label='High')\n",
    "plt.plot(mean_score_history[:,0], mean_score_history[:,1], '-o', label='Mean')\n",
    "plt.legend()\n",
    "plt.xlim(0, EPOCHS)\n",
    "plt.ylim(bottom=0)\n",
    "plt.xlabel('Epochs')\n",
    "plt.ylabel('Score')\n",
    "plt.show()"
   ]
  },
  {
   "cell_type": "markdown",
   "metadata": {},
   "source": [
    "* Submission 파일 만들기"
   ]
  },
  {
   "cell_type": "code",
   "execution_count": 15,
   "metadata": {
    "ExecuteTime": {
     "end_time": "2020-07-02T20:17:04.986480Z",
     "start_time": "2020-07-02T20:16:57.159362Z"
    }
   },
   "outputs": [],
   "source": [
    "# 재고 계산\n",
    "simulator = Simulator()\n",
    "order = pd.read_csv('../data/order.csv')\n",
    "submission = best_genomes[0].predict(order)\n",
    "_, df_stock = simulator.get_score(submission)\n",
    "\n",
    "# PRT 개수 계산\n",
    "PRTs = df_stock[['PRT_1', 'PRT_2', 'PRT_3', 'PRT_4']].values\n",
    "PRTs = (PRTs[:-1] - PRTs[1:])[24*23:]\n",
    "PRTs = np.ceil(PRTs * 1.1)\n",
    "PAD = np.zeros((24*23+1, 4))\n",
    "PRTs = np.append(PRTs, PAD, axis=0).astype(int)\n",
    "\n",
    "# Submission 파일에 PRT 입력\n",
    "submission.loc[:, 'PRT_1':'PRT_4'] = PRTs\n",
    "submission.to_csv('submission.csv', index=False)"
   ]
  },
  {
   "cell_type": "markdown",
   "metadata": {},
   "source": [
    "# Custimize Check Score"
   ]
  },
  {
   "cell_type": "code",
   "execution_count": 16,
   "metadata": {
    "ExecuteTime": {
     "end_time": "2020-07-02T20:17:05.731482Z",
     "start_time": "2020-07-02T20:17:05.280648Z"
    }
   },
   "outputs": [
    {
     "name": "stdout",
     "output_type": "stream",
     "text": [
      "87.96103724544044\n"
     ]
    }
   ],
   "source": [
    "# 나의 점수는?\n",
    "from module.simulator_score import Simulator\n",
    "\n",
    "scoring = Simulator()\n",
    "whatthe, _ = scoring.get_score(submission)\n",
    "\n",
    "print(whatthe)"
   ]
  }
 ],
 "metadata": {
  "kernelspec": {
   "display_name": "SpaceConquer",
   "language": "python",
   "name": "spaceconquer"
  },
  "language_info": {
   "codemirror_mode": {
    "name": "ipython",
    "version": 3
   },
   "file_extension": ".py",
   "mimetype": "text/x-python",
   "name": "python",
   "nbconvert_exporter": "python",
   "pygments_lexer": "ipython3",
   "version": "3.8.3"
  },
  "varInspector": {
   "cols": {
    "lenName": 16,
    "lenType": 16,
    "lenVar": 40
   },
   "kernels_config": {
    "python": {
     "delete_cmd_postfix": "",
     "delete_cmd_prefix": "del ",
     "library": "var_list.py",
     "varRefreshCmd": "print(var_dic_list())"
    },
    "r": {
     "delete_cmd_postfix": ") ",
     "delete_cmd_prefix": "rm(",
     "library": "var_list.r",
     "varRefreshCmd": "cat(var_dic_list()) "
    }
   },
   "types_to_exclude": [
    "module",
    "function",
    "builtin_function_or_method",
    "instance",
    "_Feature"
   ],
   "window_display": false
  }
 },
 "nbformat": 4,
 "nbformat_minor": 4
}
